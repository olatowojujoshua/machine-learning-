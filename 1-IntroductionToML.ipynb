{
 "cells": [
  {
   "cell_type": "markdown",
   "id": "47f485e6",
   "metadata": {},
   "source": [
    "\n",
    "# Module 1: Introduction to Machine Learning\n",
    "\n",
    "**Learning Objectives**\n",
    "- Define machine learning and explain its significance.\n",
    "- Differentiate between rule-based systems and machine learning.\n",
    "- Understand the basic idea of supervised and unsupervised learning with examples.\n",
    "- Recognize the role of Python libraries such as pandas, scikit-learn, and NumPy in ML workflows.\n"
   ]
  },
  {
   "cell_type": "markdown",
   "id": "748213c7",
   "metadata": {},
   "source": [
    "\n",
    "## What is Machine Learning?\n",
    "\n",
    "Machine Learning (ML) is a field of Artificial Intelligence (AI) where systems **learn patterns from data** \n",
    "and improve their performance without being explicitly programmed with fixed rules.\n",
    "\n",
    "Formally, we can think of a model as a function:\n",
    "\n",
    "$$ \\hat{y} = f_{\\theta}(x) $$\n",
    "\n",
    "Where:\n",
    "- $x$ is the **input data** (features).\n",
    "- $\\hat{y}$ is the **predicted output** (label).\n",
    "- $f_{\\theta}$ is the **model** with parameters $\\theta$ (these parameters are learned from data).\n",
    "\n",
    "Unlike traditional programming (where rules are hard-coded), ML allows the system to **adapt** \n",
    "and **improve** automatically as it sees more data.\n"
   ]
  },
  {
   "cell_type": "markdown",
   "id": "a5a15990",
   "metadata": {},
   "source": [
    "\n",
    "## Rule-Based Systems vs Machine Learning\n",
    "\n",
    "**Rule-Based System (RBS):**\n",
    "- The developer writes a set of **if-then rules** to make decisions.\n",
    "- Example: *If attendance < 75% then \"Fail\", else \"Pass\".*\n",
    "- Works well for simple and static situations.\n",
    "\n",
    "**Machine Learning:**\n",
    "- Learns patterns from data automatically.\n",
    "- Adapts as new data arrives.\n",
    "- Example: Uses past student data (hours studied, attendance) to **predict probability of passing**.\n",
    "\n",
    "**Key Difference:** RBS uses explicit logic programmed by humans. ML *learns rules from data*.\n"
   ]
  },
  {
   "cell_type": "markdown",
   "id": "b07423b7",
   "metadata": {},
   "source": [
    "\n",
    "## Supervised Learning Example\n",
    "\n",
    "In supervised learning, we have data with both **inputs** and **outputs** (labels). \n",
    "The goal is to learn a function that maps inputs to outputs.\n",
    "\n",
    "Example: Predict whether a student will pass (output) based on hours studied and attendance (inputs).\n",
    "\n",
    "\n",
    "\n"
   ]
  },
  {
   "cell_type": "code",
   "execution_count": 8,
   "id": "133f3ed2",
   "metadata": {},
   "outputs": [
    {
     "data": {
      "application/vnd.microsoft.datawrangler.viewer.v0+json": {
       "columns": [
        {
         "name": "index",
         "rawType": "int64",
         "type": "integer"
        },
        {
         "name": "hours_studied",
         "rawType": "int64",
         "type": "integer"
        },
        {
         "name": "attendance",
         "rawType": "int64",
         "type": "integer"
        },
        {
         "name": "passed",
         "rawType": "int64",
         "type": "integer"
        }
       ],
       "ref": "f02e7c5a-60fe-4b18-a22e-10579243e07e",
       "rows": [
        [
         "0",
         "2",
         "60",
         "0"
        ],
        [
         "1",
         "4",
         "80",
         "1"
        ],
        [
         "2",
         "6",
         "85",
         "1"
        ],
        [
         "3",
         "1",
         "50",
         "0"
        ],
        [
         "4",
         "7",
         "90",
         "1"
        ],
        [
         "5",
         "5",
         "75",
         "1"
        ],
        [
         "6",
         "8",
         "95",
         "1"
        ],
        [
         "7",
         "3",
         "65",
         "0"
        ],
        [
         "8",
         "9",
         "92",
         "1"
        ],
        [
         "9",
         "2",
         "55",
         "0"
        ],
        [
         "10",
         "6",
         "88",
         "1"
        ],
        [
         "11",
         "4",
         "70",
         "1"
        ],
        [
         "12",
         "10",
         "96",
         "1"
        ],
        [
         "13",
         "1",
         "45",
         "0"
        ],
        [
         "14",
         "5",
         "78",
         "1"
        ],
        [
         "15",
         "7",
         "89",
         "1"
        ],
        [
         "16",
         "3",
         "62",
         "0"
        ],
        [
         "17",
         "8",
         "93",
         "1"
        ],
        [
         "18",
         "6",
         "84",
         "1"
        ],
        [
         "19",
         "2",
         "58",
         "0"
        ],
        [
         "20",
         "9",
         "91",
         "1"
        ],
        [
         "21",
         "4",
         "72",
         "1"
        ],
        [
         "22",
         "7",
         "87",
         "1"
        ],
        [
         "23",
         "5",
         "76",
         "1"
        ],
        [
         "24",
         "1",
         "48",
         "0"
        ],
        [
         "25",
         "6",
         "82",
         "1"
        ],
        [
         "26",
         "8",
         "94",
         "1"
        ],
        [
         "27",
         "3",
         "67",
         "0"
        ],
        [
         "28",
         "10",
         "98",
         "1"
        ],
        [
         "29",
         "4",
         "74",
         "1"
        ]
       ],
       "shape": {
        "columns": 3,
        "rows": 30
       }
      },
      "text/html": [
       "<div>\n",
       "<style scoped>\n",
       "    .dataframe tbody tr th:only-of-type {\n",
       "        vertical-align: middle;\n",
       "    }\n",
       "\n",
       "    .dataframe tbody tr th {\n",
       "        vertical-align: top;\n",
       "    }\n",
       "\n",
       "    .dataframe thead th {\n",
       "        text-align: right;\n",
       "    }\n",
       "</style>\n",
       "<table border=\"1\" class=\"dataframe\">\n",
       "  <thead>\n",
       "    <tr style=\"text-align: right;\">\n",
       "      <th></th>\n",
       "      <th>hours_studied</th>\n",
       "      <th>attendance</th>\n",
       "      <th>passed</th>\n",
       "    </tr>\n",
       "  </thead>\n",
       "  <tbody>\n",
       "    <tr>\n",
       "      <th>0</th>\n",
       "      <td>2</td>\n",
       "      <td>60</td>\n",
       "      <td>0</td>\n",
       "    </tr>\n",
       "    <tr>\n",
       "      <th>1</th>\n",
       "      <td>4</td>\n",
       "      <td>80</td>\n",
       "      <td>1</td>\n",
       "    </tr>\n",
       "    <tr>\n",
       "      <th>2</th>\n",
       "      <td>6</td>\n",
       "      <td>85</td>\n",
       "      <td>1</td>\n",
       "    </tr>\n",
       "    <tr>\n",
       "      <th>3</th>\n",
       "      <td>1</td>\n",
       "      <td>50</td>\n",
       "      <td>0</td>\n",
       "    </tr>\n",
       "    <tr>\n",
       "      <th>4</th>\n",
       "      <td>7</td>\n",
       "      <td>90</td>\n",
       "      <td>1</td>\n",
       "    </tr>\n",
       "    <tr>\n",
       "      <th>5</th>\n",
       "      <td>5</td>\n",
       "      <td>75</td>\n",
       "      <td>1</td>\n",
       "    </tr>\n",
       "    <tr>\n",
       "      <th>6</th>\n",
       "      <td>8</td>\n",
       "      <td>95</td>\n",
       "      <td>1</td>\n",
       "    </tr>\n",
       "    <tr>\n",
       "      <th>7</th>\n",
       "      <td>3</td>\n",
       "      <td>65</td>\n",
       "      <td>0</td>\n",
       "    </tr>\n",
       "    <tr>\n",
       "      <th>8</th>\n",
       "      <td>9</td>\n",
       "      <td>92</td>\n",
       "      <td>1</td>\n",
       "    </tr>\n",
       "    <tr>\n",
       "      <th>9</th>\n",
       "      <td>2</td>\n",
       "      <td>55</td>\n",
       "      <td>0</td>\n",
       "    </tr>\n",
       "    <tr>\n",
       "      <th>10</th>\n",
       "      <td>6</td>\n",
       "      <td>88</td>\n",
       "      <td>1</td>\n",
       "    </tr>\n",
       "    <tr>\n",
       "      <th>11</th>\n",
       "      <td>4</td>\n",
       "      <td>70</td>\n",
       "      <td>1</td>\n",
       "    </tr>\n",
       "    <tr>\n",
       "      <th>12</th>\n",
       "      <td>10</td>\n",
       "      <td>96</td>\n",
       "      <td>1</td>\n",
       "    </tr>\n",
       "    <tr>\n",
       "      <th>13</th>\n",
       "      <td>1</td>\n",
       "      <td>45</td>\n",
       "      <td>0</td>\n",
       "    </tr>\n",
       "    <tr>\n",
       "      <th>14</th>\n",
       "      <td>5</td>\n",
       "      <td>78</td>\n",
       "      <td>1</td>\n",
       "    </tr>\n",
       "    <tr>\n",
       "      <th>15</th>\n",
       "      <td>7</td>\n",
       "      <td>89</td>\n",
       "      <td>1</td>\n",
       "    </tr>\n",
       "    <tr>\n",
       "      <th>16</th>\n",
       "      <td>3</td>\n",
       "      <td>62</td>\n",
       "      <td>0</td>\n",
       "    </tr>\n",
       "    <tr>\n",
       "      <th>17</th>\n",
       "      <td>8</td>\n",
       "      <td>93</td>\n",
       "      <td>1</td>\n",
       "    </tr>\n",
       "    <tr>\n",
       "      <th>18</th>\n",
       "      <td>6</td>\n",
       "      <td>84</td>\n",
       "      <td>1</td>\n",
       "    </tr>\n",
       "    <tr>\n",
       "      <th>19</th>\n",
       "      <td>2</td>\n",
       "      <td>58</td>\n",
       "      <td>0</td>\n",
       "    </tr>\n",
       "    <tr>\n",
       "      <th>20</th>\n",
       "      <td>9</td>\n",
       "      <td>91</td>\n",
       "      <td>1</td>\n",
       "    </tr>\n",
       "    <tr>\n",
       "      <th>21</th>\n",
       "      <td>4</td>\n",
       "      <td>72</td>\n",
       "      <td>1</td>\n",
       "    </tr>\n",
       "    <tr>\n",
       "      <th>22</th>\n",
       "      <td>7</td>\n",
       "      <td>87</td>\n",
       "      <td>1</td>\n",
       "    </tr>\n",
       "    <tr>\n",
       "      <th>23</th>\n",
       "      <td>5</td>\n",
       "      <td>76</td>\n",
       "      <td>1</td>\n",
       "    </tr>\n",
       "    <tr>\n",
       "      <th>24</th>\n",
       "      <td>1</td>\n",
       "      <td>48</td>\n",
       "      <td>0</td>\n",
       "    </tr>\n",
       "    <tr>\n",
       "      <th>25</th>\n",
       "      <td>6</td>\n",
       "      <td>82</td>\n",
       "      <td>1</td>\n",
       "    </tr>\n",
       "    <tr>\n",
       "      <th>26</th>\n",
       "      <td>8</td>\n",
       "      <td>94</td>\n",
       "      <td>1</td>\n",
       "    </tr>\n",
       "    <tr>\n",
       "      <th>27</th>\n",
       "      <td>3</td>\n",
       "      <td>67</td>\n",
       "      <td>0</td>\n",
       "    </tr>\n",
       "    <tr>\n",
       "      <th>28</th>\n",
       "      <td>10</td>\n",
       "      <td>98</td>\n",
       "      <td>1</td>\n",
       "    </tr>\n",
       "    <tr>\n",
       "      <th>29</th>\n",
       "      <td>4</td>\n",
       "      <td>74</td>\n",
       "      <td>1</td>\n",
       "    </tr>\n",
       "  </tbody>\n",
       "</table>\n",
       "</div>"
      ],
      "text/plain": [
       "    hours_studied  attendance  passed\n",
       "0               2          60       0\n",
       "1               4          80       1\n",
       "2               6          85       1\n",
       "3               1          50       0\n",
       "4               7          90       1\n",
       "5               5          75       1\n",
       "6               8          95       1\n",
       "7               3          65       0\n",
       "8               9          92       1\n",
       "9               2          55       0\n",
       "10              6          88       1\n",
       "11              4          70       1\n",
       "12             10          96       1\n",
       "13              1          45       0\n",
       "14              5          78       1\n",
       "15              7          89       1\n",
       "16              3          62       0\n",
       "17              8          93       1\n",
       "18              6          84       1\n",
       "19              2          58       0\n",
       "20              9          91       1\n",
       "21              4          72       1\n",
       "22              7          87       1\n",
       "23              5          76       1\n",
       "24              1          48       0\n",
       "25              6          82       1\n",
       "26              8          94       1\n",
       "27              3          67       0\n",
       "28             10          98       1\n",
       "29              4          74       1"
      ]
     },
     "execution_count": 8,
     "metadata": {},
     "output_type": "execute_result"
    }
   ],
   "source": [
    "# Import necessary libraries\n",
    "import pandas as pd\n",
    "from sklearn.model_selection import train_test_split\n",
    "from sklearn.linear_model import LogisticRegression\n",
    "from sklearn.metrics import accuracy_score, confusion_matrix\n",
    "\n",
    "# Create a dataset with 30 students: hours studied, attendance %, and whether student passed (1) or failed (0)\n",
    "data = {\n",
    "    'hours_studied': [2, 4, 6, 1, 7, 5, 8, 3, 9, 2, 6, 4, 10, 1, 5, 7, 3, 8, 6, 2, 9, 4, 7, 5, 1, 6, 8, 3, 10, 4],\n",
    "    'attendance': [60, 80, 85, 50, 90, 75, 95, 65, 92, 55, 88, 70, 96, 45, 78, 89, 62, 93, 84, 58, 91, 72, 87, 76, 48, 82, 94, 67, 98, 74],\n",
    "    'passed': [0, 1, 1, 0, 1, 1, 1, 0, 1, 0, 1, 1, 1, 0, 1, 1, 0, 1, 1, 0, 1, 1, 1, 1, 0, 1, 1, 0, 1, 1]\n",
    "}\n",
    "\n",
    "df = pd.DataFrame(data)\n",
    "df"
   ]
  },
  {
   "attachments": {
    "image.png": {
     "image/png": "[encoded data removed]"
    }
   },
   "cell_type": "markdown",
   "id": "e59a9cac",
   "metadata": {},
   "source": [
    "\n",
    "## Mathematical Foundation of Logistic Regression\n",
    "\n",
    "### The Logistic Function\n",
    "\n",
    "Logistic regression uses the **sigmoid function** to map any real number to a probability between 0 and 1:\n",
    "\n",
    "$$ \\sigma(z) = \\frac{1}{1 + e^{-z}} $$\n",
    "\n",
    "Where $z$ is the **linear combination** of our features:\n",
    "\n",
    "$$ z = \\theta_0 + \\theta_1 x_1 + \\theta_2 x_2 + ... + \\theta_n x_n $$\n",
    "\n",
    "For our student example with 2 features:\n",
    "$$ z = \\theta_0 + \\theta_1 \\cdot \\text{hours\\_studied} + \\theta_2 \\cdot \\text{attendance} $$\n",
    "\n",
    "### Complete Logistic Regression Model\n",
    "\n",
    "The probability that a student passes is:\n",
    "\n",
    "$$ P(\\text{pass} = 1 | x) = \\frac{1}{1 + e^{-(\\theta_0 + \\theta_1 x_1 + \\theta_2 x_2)}} $$\n",
    "\n",
    "**Decision Rule:**\n",
    "- If $P(\\text{pass} = 1 | x) \\geq 0.5$ → Predict \"Pass\" (1)\n",
    "- If $P(\\text{pass} = 1 | x) < 0.5$ → Predict \"Fail\" (0)\n",
    "\n",
    "### Why Use the Sigmoid Function?\n",
    "\n",
    "1. **Output Range:** Always between 0 and 1 (perfect for probabilities)\n",
    "2. **S-shaped Curve:** Smooth transition from 0 to 1\n",
    "3. **Interpretable:** Clear decision boundary at 0.5\n",
    "\n",
    "\n",
    "![image.png](attachment:image.png)"
   ]
  },
  {
   "cell_type": "code",
   "execution_count": 25,
   "id": "d2f2978f",
   "metadata": {},
   "outputs": [
    {
     "name": "stdout",
     "output_type": "stream",
     "text": [
      "Dataset Split Information:\n",
      "Total samples: 30\n",
      "Training samples: 22 (73.3%)\n",
      "Test samples: 8 (26.7%)\n",
      "\n",
      "Training Data (Features and Labels):\n",
      "\n",
      "Test Data (Features and Labels):\n"
     ]
    },
    {
     "data": {
      "application/vnd.microsoft.datawrangler.viewer.v0+json": {
       "columns": [
        {
         "name": "index",
         "rawType": "int64",
         "type": "integer"
        },
        {
         "name": "hours_studied",
         "rawType": "int64",
         "type": "integer"
        },
        {
         "name": "attendance",
         "rawType": "int64",
         "type": "integer"
        },
        {
         "name": "passed",
         "rawType": "int64",
         "type": "integer"
        }
       ],
       "ref": "c39215be-2c95-4415-a66e-5fccf18828f3",
       "rows": [
        [
         "27",
         "3",
         "67",
         "0"
        ],
        [
         "15",
         "7",
         "89",
         "1"
        ],
        [
         "23",
         "5",
         "76",
         "1"
        ],
        [
         "17",
         "8",
         "93",
         "1"
        ],
        [
         "8",
         "9",
         "92",
         "1"
        ],
        [
         "9",
         "2",
         "55",
         "0"
        ],
        [
         "28",
         "10",
         "98",
         "1"
        ],
        [
         "24",
         "1",
         "48",
         "0"
        ]
       ],
       "shape": {
        "columns": 3,
        "rows": 8
       }
      },
      "text/html": [
       "<div>\n",
       "<style scoped>\n",
       "    .dataframe tbody tr th:only-of-type {\n",
       "        vertical-align: middle;\n",
       "    }\n",
       "\n",
       "    .dataframe tbody tr th {\n",
       "        vertical-align: top;\n",
       "    }\n",
       "\n",
       "    .dataframe thead th {\n",
       "        text-align: right;\n",
       "    }\n",
       "</style>\n",
       "<table border=\"1\" class=\"dataframe\">\n",
       "  <thead>\n",
       "    <tr style=\"text-align: right;\">\n",
       "      <th></th>\n",
       "      <th>hours_studied</th>\n",
       "      <th>attendance</th>\n",
       "      <th>passed</th>\n",
       "    </tr>\n",
       "  </thead>\n",
       "  <tbody>\n",
       "    <tr>\n",
       "      <th>27</th>\n",
       "      <td>3</td>\n",
       "      <td>67</td>\n",
       "      <td>0</td>\n",
       "    </tr>\n",
       "    <tr>\n",
       "      <th>15</th>\n",
       "      <td>7</td>\n",
       "      <td>89</td>\n",
       "      <td>1</td>\n",
       "    </tr>\n",
       "    <tr>\n",
       "      <th>23</th>\n",
       "      <td>5</td>\n",
       "      <td>76</td>\n",
       "      <td>1</td>\n",
       "    </tr>\n",
       "    <tr>\n",
       "      <th>17</th>\n",
       "      <td>8</td>\n",
       "      <td>93</td>\n",
       "      <td>1</td>\n",
       "    </tr>\n",
       "    <tr>\n",
       "      <th>8</th>\n",
       "      <td>9</td>\n",
       "      <td>92</td>\n",
       "      <td>1</td>\n",
       "    </tr>\n",
       "    <tr>\n",
       "      <th>9</th>\n",
       "      <td>2</td>\n",
       "      <td>55</td>\n",
       "      <td>0</td>\n",
       "    </tr>\n",
       "    <tr>\n",
       "      <th>28</th>\n",
       "      <td>10</td>\n",
       "      <td>98</td>\n",
       "      <td>1</td>\n",
       "    </tr>\n",
       "    <tr>\n",
       "      <th>24</th>\n",
       "      <td>1</td>\n",
       "      <td>48</td>\n",
       "      <td>0</td>\n",
       "    </tr>\n",
       "  </tbody>\n",
       "</table>\n",
       "</div>"
      ],
      "text/plain": [
       "    hours_studied  attendance  passed\n",
       "27              3          67       0\n",
       "15              7          89       1\n",
       "23              5          76       1\n",
       "17              8          93       1\n",
       "8               9          92       1\n",
       "9               2          55       0\n",
       "28             10          98       1\n",
       "24              1          48       0"
      ]
     },
     "execution_count": 25,
     "metadata": {},
     "output_type": "execute_result"
    }
   ],
   "source": [
    "# Features (inputs) and target (output)\n",
    "X = df[['hours_studied', 'attendance']]\n",
    "y = df['passed']\n",
    "\n",
    "# Split into training and test sets\n",
    "X_train, X_test, y_train, y_test = train_test_split(X, y, test_size=0.25, random_state=42)\n",
    "\n",
    "# Display the split information using formatted output\n",
    "print(\"Dataset Split Information:\")\n",
    "print(f\"Total samples: {len(X)}\")\n",
    "print(f\"Training samples: {len(X_train)} ({len(X_train)/len(X)*100:.1f}%)\")\n",
    "print(f\"Test samples: {len(X_test)} ({len(X_test)/len(X)*100:.1f}%)\")\n",
    "\n",
    "# Display training data in Data Wrangler friendly format\n",
    "print(\"\\nTraining Data (Features and Labels):\")\n",
    "X_train_display = X_train.copy()\n",
    "X_train_display['passed'] = y_train\n",
    "X_train_display\n",
    "\n",
    "# Display test data in Data Wrangler friendly format  \n",
    "print(\"\\nTest Data (Features and Labels):\")\n",
    "X_test_display = X_test.copy()\n",
    "X_test_display['passed'] = y_test\n",
    "X_test_display"
   ]
  },
  {
   "cell_type": "markdown",
   "id": "dbfc65a5",
   "metadata": {},
   "source": [
    "## Model Training and Evaluation\n",
    "\n",
    "Now we'll train our logistic regression model on the training data and evaluate its performance using two key metrics:\n",
    "\n",
    "### Key Evaluation Metrics\n",
    "\n",
    "**1. Accuracy:** The percentage of correct predictions out of all predictions made.\n",
    "- Formula: `Accuracy = (Correct Predictions) / (Total Predictions)`\n",
    "- Range: 0 to 1 (or 0% to 100%)\n",
    "- Higher values indicate better performance\n",
    "\n",
    "**2. Confusion Matrix:** A table showing correct vs incorrect predictions for each class.\n",
    "- Shows true positives, true negatives, false positives, and false negatives\n",
    "- Helps identify which classes the model struggles with\n",
    "- Format for binary classification:\n",
    "  ```\n",
    "  Predicted:    0    1\n",
    "  Actual: 0   [TN] [FP]\n",
    "  Actual: 1   [FN] [TP]\n",
    "  ```\n",
    "  Where: TN=True Negative, FP=False Positive, FN=False Negative, TP=True Positive"
   ]
  },
  {
   "cell_type": "code",
   "execution_count": 28,
   "id": "49b70fda",
   "metadata": {},
   "outputs": [
    {
     "name": "stdout",
     "output_type": "stream",
     "text": [
      "Model Performance:\n",
      "========================================\n",
      "Accuracy: 1.000 (100.0%)\n",
      "This means the model correctly predicted 100.0% of student outcomes\n",
      "\n",
      "Confusion Matrix:\n",
      "=========================\n",
      "Predicted:    Fail  Pass\n",
      "Actual: Fail    3     0\n",
      "Actual: Pass    0     5\n",
      "\n",
      "Detailed Test Results:\n",
      "===================================\n",
      "    hours_studied  attendance  Actual  Predicted  Correct\n",
      "27              3          67       0          0     True\n",
      "15              7          89       1          1     True\n",
      "23              5          76       1          1     True\n",
      "17              8          93       1          1     True\n",
      "8               9          92       1          1     True\n",
      "9               2          55       0          0     True\n",
      "28             10          98       1          1     True\n",
      "24              1          48       0          0     True\n"
     ]
    }
   ],
   "source": [
    "# Initialize and train logistic regression model\n",
    "model = LogisticRegression(solver='liblinear', random_state=42)\n",
    "model.fit(X_train, y_train)\n",
    "\n",
    "# Make predictions on test set\n",
    "y_pred = model.predict(X_test)\n",
    "\n",
    "# Calculate and display accuracy\n",
    "accuracy = accuracy_score(y_test, y_pred)\n",
    "print(\"Model Performance:\")\n",
    "print(\"=\" * 40)\n",
    "print(f\"Accuracy: {accuracy:.3f} ({accuracy*100:.1f}%)\")\n",
    "print(f\"This means the model correctly predicted {accuracy*100:.1f}% of student outcomes\")\n",
    "\n",
    "# Display confusion matrix\n",
    "cm = confusion_matrix(y_test, y_pred, labels=[0, 1])\n",
    "print(\"\\nConfusion Matrix:\")\n",
    "print(\"=\" * 25)\n",
    "print(\"Predicted:    Fail  Pass\")\n",
    "print(f\"Actual: Fail   {cm[0,0]:2d}    {cm[0,1]:2d}\")\n",
    "print(f\"Actual: Pass   {cm[1,0]:2d}    {cm[1,1]:2d}\")\n",
    "\n",
    "# Show actual vs predicted for each test sample\n",
    "print(\"\\nDetailed Test Results:\")\n",
    "print(\"=\" * 35)\n",
    "test_results = X_test.copy()\n",
    "test_results['Actual'] = y_test.values\n",
    "test_results['Predicted'] = y_pred\n",
    "test_results['Correct'] = (y_test.values == y_pred)\n",
    "print(test_results)"
   ]
  },
  {
   "cell_type": "code",
   "execution_count": 29,
   "id": "901724a7",
   "metadata": {},
   "outputs": [
    {
     "name": "stdout",
     "output_type": "stream",
     "text": [
      "Predictions for New Students:\n",
      "   hours_studied  attendance  Predicted_Pass  Probability_Pass\n",
      "0              3          65               0          0.499785\n",
      "1              7          90               1          0.991856\n",
      "2              1          55               0          0.070601\n"
     ]
    }
   ],
   "source": [
    "# --- Predict pass/fail for 3 new students using the trained model ---\n",
    "\n",
    "# Create a new dataset for 3 students\n",
    "new_students = pd.DataFrame({\n",
    "    'hours_studied': [3, 7, 1],      # Example values, change as needed\n",
    "    'attendance': [65, 90, 55]\n",
    "})\n",
    "\n",
    "# Use the trained model to predict\n",
    "predictions = model.predict(new_students)\n",
    "probabilities = model.predict_proba(new_students)[:, 1]  # Probability of passing\n",
    "\n",
    "# Display results\n",
    "new_students['Predicted_Pass'] = predictions\n",
    "new_students['Probability_Pass'] = probabilities\n",
    "\n",
    "print(\"Predictions for New Students:\")\n",
    "print(new_students)"
   ]
  },
  {
   "cell_type": "markdown",
   "id": "0324b944",
   "metadata": {},
   "source": [
    "## Unsupervised Learning Example\n",
    "\n",
    "In unsupervised learning, we only have **inputs** and no labeled outputs. \n",
    "The model tries to find **patterns or clusters** in the data without being told what to look for.\n",
    "\n",
    "**Key Characteristics:**\n",
    "- No target variable (y) to predict\n",
    "- Algorithm discovers hidden patterns in data\n",
    "- Common tasks: clustering, dimensionality reduction, anomaly detection\n",
    "\n",
    "**Example:** Grouping students by cost-of-living factors to identify spending patterns.\n",
    "\n",
    "### K-Means Clustering Algorithm\n",
    "K-Means is a popular clustering algorithm that:\n",
    "- Groups data into k clusters\n",
    "- Minimizes distance between data points and cluster centers\n",
    "- Iteratively improves cluster assignments"
   ]
  },
  {
   "cell_type": "code",
   "execution_count": 19,
   "id": "e4a391e7",
   "metadata": {},
   "outputs": [
    {
     "name": "stdout",
     "output_type": "stream",
     "text": [
      "Student Cost-of-Living Data:\n"
     ]
    },
    {
     "data": {
      "application/vnd.microsoft.datawrangler.viewer.v0+json": {
       "columns": [
        {
         "name": "Student",
         "rawType": "int64",
         "type": "integer"
        },
        {
         "name": "Rent ($)",
         "rawType": "int64",
         "type": "integer"
        },
        {
         "name": "Groceries ($)",
         "rawType": "int64",
         "type": "integer"
        },
        {
         "name": "Transport ($)",
         "rawType": "int64",
         "type": "integer"
        }
       ],
       "ref": "21c397b5-3718-40af-8238-f6ae200a581d",
       "rows": [
        [
         "1",
         "800",
         "200",
         "150"
        ],
        [
         "2",
         "1200",
         "300",
         "200"
        ],
        [
         "3",
         "700",
         "180",
         "120"
        ],
        [
         "4",
         "1500",
         "400",
         "250"
        ],
        [
         "5",
         "750",
         "220",
         "130"
        ],
        [
         "6",
         "1300",
         "350",
         "210"
        ],
        [
         "7",
         "850",
         "190",
         "140"
        ],
        [
         "8",
         "1100",
         "280",
         "180"
        ],
        [
         "9",
         "780",
         "210",
         "125"
        ],
        [
         "10",
         "1400",
         "380",
         "240"
        ],
        [
         "11",
         "720",
         "170",
         "115"
        ],
        [
         "12",
         "1250",
         "320",
         "195"
        ]
       ],
       "shape": {
        "columns": 3,
        "rows": 12
       }
      },
      "text/html": [
       "<div>\n",
       "<style scoped>\n",
       "    .dataframe tbody tr th:only-of-type {\n",
       "        vertical-align: middle;\n",
       "    }\n",
       "\n",
       "    .dataframe tbody tr th {\n",
       "        vertical-align: top;\n",
       "    }\n",
       "\n",
       "    .dataframe thead th {\n",
       "        text-align: right;\n",
       "    }\n",
       "</style>\n",
       "<table border=\"1\" class=\"dataframe\">\n",
       "  <thead>\n",
       "    <tr style=\"text-align: right;\">\n",
       "      <th></th>\n",
       "      <th>Rent ($)</th>\n",
       "      <th>Groceries ($)</th>\n",
       "      <th>Transport ($)</th>\n",
       "    </tr>\n",
       "    <tr>\n",
       "      <th>Student</th>\n",
       "      <th></th>\n",
       "      <th></th>\n",
       "      <th></th>\n",
       "    </tr>\n",
       "  </thead>\n",
       "  <tbody>\n",
       "    <tr>\n",
       "      <th>1</th>\n",
       "      <td>800</td>\n",
       "      <td>200</td>\n",
       "      <td>150</td>\n",
       "    </tr>\n",
       "    <tr>\n",
       "      <th>2</th>\n",
       "      <td>1200</td>\n",
       "      <td>300</td>\n",
       "      <td>200</td>\n",
       "    </tr>\n",
       "    <tr>\n",
       "      <th>3</th>\n",
       "      <td>700</td>\n",
       "      <td>180</td>\n",
       "      <td>120</td>\n",
       "    </tr>\n",
       "    <tr>\n",
       "      <th>4</th>\n",
       "      <td>1500</td>\n",
       "      <td>400</td>\n",
       "      <td>250</td>\n",
       "    </tr>\n",
       "    <tr>\n",
       "      <th>5</th>\n",
       "      <td>750</td>\n",
       "      <td>220</td>\n",
       "      <td>130</td>\n",
       "    </tr>\n",
       "    <tr>\n",
       "      <th>6</th>\n",
       "      <td>1300</td>\n",
       "      <td>350</td>\n",
       "      <td>210</td>\n",
       "    </tr>\n",
       "    <tr>\n",
       "      <th>7</th>\n",
       "      <td>850</td>\n",
       "      <td>190</td>\n",
       "      <td>140</td>\n",
       "    </tr>\n",
       "    <tr>\n",
       "      <th>8</th>\n",
       "      <td>1100</td>\n",
       "      <td>280</td>\n",
       "      <td>180</td>\n",
       "    </tr>\n",
       "    <tr>\n",
       "      <th>9</th>\n",
       "      <td>780</td>\n",
       "      <td>210</td>\n",
       "      <td>125</td>\n",
       "    </tr>\n",
       "    <tr>\n",
       "      <th>10</th>\n",
       "      <td>1400</td>\n",
       "      <td>380</td>\n",
       "      <td>240</td>\n",
       "    </tr>\n",
       "    <tr>\n",
       "      <th>11</th>\n",
       "      <td>720</td>\n",
       "      <td>170</td>\n",
       "      <td>115</td>\n",
       "    </tr>\n",
       "    <tr>\n",
       "      <th>12</th>\n",
       "      <td>1250</td>\n",
       "      <td>320</td>\n",
       "      <td>195</td>\n",
       "    </tr>\n",
       "  </tbody>\n",
       "</table>\n",
       "</div>"
      ],
      "text/plain": [
       "         Rent ($)  Groceries ($)  Transport ($)\n",
       "Student                                        \n",
       "1             800            200            150\n",
       "2            1200            300            200\n",
       "3             700            180            120\n",
       "4            1500            400            250\n",
       "5             750            220            130\n",
       "6            1300            350            210\n",
       "7             850            190            140\n",
       "8            1100            280            180\n",
       "9             780            210            125\n",
       "10           1400            380            240\n",
       "11            720            170            115\n",
       "12           1250            320            195"
      ]
     },
     "execution_count": 19,
     "metadata": {},
     "output_type": "execute_result"
    }
   ],
   "source": [
    "from sklearn.cluster import KMeans\n",
    "import numpy as np\n",
    "import matplotlib.pyplot as plt\n",
    "import pandas as pd\n",
    "\n",
    "# Create a larger dataset with 12 students: rent, groceries, transport (monthly costs in $)\n",
    "np.random.seed(42)  # For reproducibility\n",
    "\n",
    "# Generate realistic cost-of-living data\n",
    "data_array = np.array([\n",
    "    [800, 200, 150],   # Budget student\n",
    "    [1200, 300, 200],  # Higher spender\n",
    "    [700, 180, 120],   # Budget student\n",
    "    [1500, 400, 250],  # Higher spender\n",
    "    [750, 220, 130],   # Budget student\n",
    "    [1300, 350, 210],  # Higher spender\n",
    "    [850, 190, 140],   # Budget student\n",
    "    [1100, 280, 180],  # Medium spender\n",
    "    [780, 210, 125],   # Budget student\n",
    "    [1400, 380, 240],  # Higher spender\n",
    "    [720, 170, 115],   # Budget student\n",
    "    [1250, 320, 195]   # Higher spender\n",
    "])\n",
    "\n",
    "# Convert to DataFrame for better visualization\n",
    "cost_df = pd.DataFrame(data_array, columns=['Rent ($)', 'Groceries ($)', 'Transport ($)'])\n",
    "cost_df.index = range(1, len(cost_df) + 1)\n",
    "cost_df.index.name = 'Student'\n",
    "\n",
    "print(\"Student Cost-of-Living Data:\")\n",
    "cost_df"
   ]
  },
  {
   "cell_type": "markdown",
   "id": "ea6c8577",
   "metadata": {},
   "source": [
    "### Clustering Process\n",
    "\n",
    "Now we'll apply K-Means clustering to group students based on their spending patterns:\n",
    "\n",
    "1. **Choose k=2** (we'll look for 2 spending groups)\n",
    "2. **Algorithm finds cluster centers** that minimize within-cluster variance\n",
    "3. **Assign each student** to the nearest cluster center\n",
    "4. **Visualize results** to understand the groupings"
   ]
  },
  {
   "cell_type": "code",
   "execution_count": 23,
   "id": "0625e7a7",
   "metadata": {},
   "outputs": [
    {
     "name": "stdout",
     "output_type": "stream",
     "text": [
      "Clustering Results:\n"
     ]
    },
    {
     "data": {
      "application/vnd.microsoft.datawrangler.viewer.v0+json": {
       "columns": [
        {
         "name": "Student",
         "rawType": "int64",
         "type": "integer"
        },
        {
         "name": "Rent ($)",
         "rawType": "int64",
         "type": "integer"
        },
        {
         "name": "Groceries ($)",
         "rawType": "int64",
         "type": "integer"
        },
        {
         "name": "Transport ($)",
         "rawType": "int64",
         "type": "integer"
        },
        {
         "name": "Cluster",
         "rawType": "int32",
         "type": "integer"
        },
        {
         "name": "Cluster_Name",
         "rawType": "object",
         "type": "string"
        }
       ],
       "ref": "112c874a-1983-4d63-ac89-2ed101de5c0a",
       "rows": [
        [
         "1",
         "800",
         "200",
         "150",
         "0",
         "Budget"
        ],
        [
         "2",
         "1200",
         "300",
         "200",
         "1",
         "Higher Spender"
        ],
        [
         "3",
         "700",
         "180",
         "120",
         "0",
         "Budget"
        ],
        [
         "4",
         "1500",
         "400",
         "250",
         "1",
         "Higher Spender"
        ],
        [
         "5",
         "750",
         "220",
         "130",
         "0",
         "Budget"
        ],
        [
         "6",
         "1300",
         "350",
         "210",
         "1",
         "Higher Spender"
        ],
        [
         "7",
         "850",
         "190",
         "140",
         "0",
         "Budget"
        ],
        [
         "8",
         "1100",
         "280",
         "180",
         "1",
         "Higher Spender"
        ],
        [
         "9",
         "780",
         "210",
         "125",
         "0",
         "Budget"
        ],
        [
         "10",
         "1400",
         "380",
         "240",
         "1",
         "Higher Spender"
        ],
        [
         "11",
         "720",
         "170",
         "115",
         "0",
         "Budget"
        ],
        [
         "12",
         "1250",
         "320",
         "195",
         "1",
         "Higher Spender"
        ]
       ],
       "shape": {
        "columns": 5,
        "rows": 12
       }
      },
      "text/html": [
       "<div>\n",
       "<style scoped>\n",
       "    .dataframe tbody tr th:only-of-type {\n",
       "        vertical-align: middle;\n",
       "    }\n",
       "\n",
       "    .dataframe tbody tr th {\n",
       "        vertical-align: top;\n",
       "    }\n",
       "\n",
       "    .dataframe thead th {\n",
       "        text-align: right;\n",
       "    }\n",
       "</style>\n",
       "<table border=\"1\" class=\"dataframe\">\n",
       "  <thead>\n",
       "    <tr style=\"text-align: right;\">\n",
       "      <th></th>\n",
       "      <th>Rent ($)</th>\n",
       "      <th>Groceries ($)</th>\n",
       "      <th>Transport ($)</th>\n",
       "      <th>Cluster</th>\n",
       "      <th>Cluster_Name</th>\n",
       "    </tr>\n",
       "    <tr>\n",
       "      <th>Student</th>\n",
       "      <th></th>\n",
       "      <th></th>\n",
       "      <th></th>\n",
       "      <th></th>\n",
       "      <th></th>\n",
       "    </tr>\n",
       "  </thead>\n",
       "  <tbody>\n",
       "    <tr>\n",
       "      <th>1</th>\n",
       "      <td>800</td>\n",
       "      <td>200</td>\n",
       "      <td>150</td>\n",
       "      <td>0</td>\n",
       "      <td>Budget</td>\n",
       "    </tr>\n",
       "    <tr>\n",
       "      <th>2</th>\n",
       "      <td>1200</td>\n",
       "      <td>300</td>\n",
       "      <td>200</td>\n",
       "      <td>1</td>\n",
       "      <td>Higher Spender</td>\n",
       "    </tr>\n",
       "    <tr>\n",
       "      <th>3</th>\n",
       "      <td>700</td>\n",
       "      <td>180</td>\n",
       "      <td>120</td>\n",
       "      <td>0</td>\n",
       "      <td>Budget</td>\n",
       "    </tr>\n",
       "    <tr>\n",
       "      <th>4</th>\n",
       "      <td>1500</td>\n",
       "      <td>400</td>\n",
       "      <td>250</td>\n",
       "      <td>1</td>\n",
       "      <td>Higher Spender</td>\n",
       "    </tr>\n",
       "    <tr>\n",
       "      <th>5</th>\n",
       "      <td>750</td>\n",
       "      <td>220</td>\n",
       "      <td>130</td>\n",
       "      <td>0</td>\n",
       "      <td>Budget</td>\n",
       "    </tr>\n",
       "    <tr>\n",
       "      <th>6</th>\n",
       "      <td>1300</td>\n",
       "      <td>350</td>\n",
       "      <td>210</td>\n",
       "      <td>1</td>\n",
       "      <td>Higher Spender</td>\n",
       "    </tr>\n",
       "    <tr>\n",
       "      <th>7</th>\n",
       "      <td>850</td>\n",
       "      <td>190</td>\n",
       "      <td>140</td>\n",
       "      <td>0</td>\n",
       "      <td>Budget</td>\n",
       "    </tr>\n",
       "    <tr>\n",
       "      <th>8</th>\n",
       "      <td>1100</td>\n",
       "      <td>280</td>\n",
       "      <td>180</td>\n",
       "      <td>1</td>\n",
       "      <td>Higher Spender</td>\n",
       "    </tr>\n",
       "    <tr>\n",
       "      <th>9</th>\n",
       "      <td>780</td>\n",
       "      <td>210</td>\n",
       "      <td>125</td>\n",
       "      <td>0</td>\n",
       "      <td>Budget</td>\n",
       "    </tr>\n",
       "    <tr>\n",
       "      <th>10</th>\n",
       "      <td>1400</td>\n",
       "      <td>380</td>\n",
       "      <td>240</td>\n",
       "      <td>1</td>\n",
       "      <td>Higher Spender</td>\n",
       "    </tr>\n",
       "    <tr>\n",
       "      <th>11</th>\n",
       "      <td>720</td>\n",
       "      <td>170</td>\n",
       "      <td>115</td>\n",
       "      <td>0</td>\n",
       "      <td>Budget</td>\n",
       "    </tr>\n",
       "    <tr>\n",
       "      <th>12</th>\n",
       "      <td>1250</td>\n",
       "      <td>320</td>\n",
       "      <td>195</td>\n",
       "      <td>1</td>\n",
       "      <td>Higher Spender</td>\n",
       "    </tr>\n",
       "  </tbody>\n",
       "</table>\n",
       "</div>"
      ],
      "text/plain": [
       "         Rent ($)  Groceries ($)  Transport ($)  Cluster    Cluster_Name\n",
       "Student                                                                 \n",
       "1             800            200            150        0          Budget\n",
       "2            1200            300            200        1  Higher Spender\n",
       "3             700            180            120        0          Budget\n",
       "4            1500            400            250        1  Higher Spender\n",
       "5             750            220            130        0          Budget\n",
       "6            1300            350            210        1  Higher Spender\n",
       "7             850            190            140        0          Budget\n",
       "8            1100            280            180        1  Higher Spender\n",
       "9             780            210            125        0          Budget\n",
       "10           1400            380            240        1  Higher Spender\n",
       "11            720            170            115        0          Budget\n",
       "12           1250            320            195        1  Higher Spender"
      ]
     },
     "execution_count": 23,
     "metadata": {},
     "output_type": "execute_result"
    }
   ],
   "source": [
    "# Apply KMeans clustering (k=2 groups)\n",
    "kmeans = KMeans(n_clusters=2, random_state=42, n_init=10)\n",
    "kmeans.fit(data_array)\n",
    "labels = kmeans.labels_\n",
    "centers = kmeans.cluster_centers_\n",
    "\n",
    "# Create results DataFrame for better visualization\n",
    "results_df = cost_df.copy()\n",
    "results_df['Cluster'] = labels\n",
    "results_df['Cluster_Name'] = ['Budget' if label == 0 else 'Higher Spender' for label in labels]\n",
    "\n",
    "# Display clustering results\n",
    "print(\"Clustering Results:\")\n",
    "results_df"
   ]
  },
  {
   "cell_type": "code",
   "execution_count": 24,
   "id": "7000efe0",
   "metadata": {},
   "outputs": [
    {
     "name": "stdout",
     "output_type": "stream",
     "text": [
      "Cluster Centers:\n"
     ]
    },
    {
     "data": {
      "application/vnd.microsoft.datawrangler.viewer.v0+json": {
       "columns": [
        {
         "name": "Cluster",
         "rawType": "object",
         "type": "string"
        },
        {
         "name": "Rent ($)",
         "rawType": "float64",
         "type": "float"
        },
        {
         "name": "Groceries ($)",
         "rawType": "float64",
         "type": "float"
        },
        {
         "name": "Transport ($)",
         "rawType": "float64",
         "type": "float"
        }
       ],
       "ref": "9676aac0-9bbb-441e-9e75-b996f61e0e0c",
       "rows": [
        [
         "Cluster 0 (Budget)",
         "766.6666666666667",
         "195.0",
         "130.0"
        ],
        [
         "Cluster 1 (Higher Spender)",
         "1291.6666666666665",
         "338.3333333333333",
         "212.5"
        ]
       ],
       "shape": {
        "columns": 3,
        "rows": 2
       }
      },
      "text/html": [
       "<div>\n",
       "<style scoped>\n",
       "    .dataframe tbody tr th:only-of-type {\n",
       "        vertical-align: middle;\n",
       "    }\n",
       "\n",
       "    .dataframe tbody tr th {\n",
       "        vertical-align: top;\n",
       "    }\n",
       "\n",
       "    .dataframe thead th {\n",
       "        text-align: right;\n",
       "    }\n",
       "</style>\n",
       "<table border=\"1\" class=\"dataframe\">\n",
       "  <thead>\n",
       "    <tr style=\"text-align: right;\">\n",
       "      <th></th>\n",
       "      <th>Rent ($)</th>\n",
       "      <th>Groceries ($)</th>\n",
       "      <th>Transport ($)</th>\n",
       "    </tr>\n",
       "    <tr>\n",
       "      <th>Cluster</th>\n",
       "      <th></th>\n",
       "      <th></th>\n",
       "      <th></th>\n",
       "    </tr>\n",
       "  </thead>\n",
       "  <tbody>\n",
       "    <tr>\n",
       "      <th>Cluster 0 (Budget)</th>\n",
       "      <td>766.666667</td>\n",
       "      <td>195.000000</td>\n",
       "      <td>130.0</td>\n",
       "    </tr>\n",
       "    <tr>\n",
       "      <th>Cluster 1 (Higher Spender)</th>\n",
       "      <td>1291.666667</td>\n",
       "      <td>338.333333</td>\n",
       "      <td>212.5</td>\n",
       "    </tr>\n",
       "  </tbody>\n",
       "</table>\n",
       "</div>"
      ],
      "text/plain": [
       "                               Rent ($)  Groceries ($)  Transport ($)\n",
       "Cluster                                                              \n",
       "Cluster 0 (Budget)           766.666667     195.000000          130.0\n",
       "Cluster 1 (Higher Spender)  1291.666667     338.333333          212.5"
      ]
     },
     "execution_count": 24,
     "metadata": {},
     "output_type": "execute_result"
    }
   ],
   "source": [
    "# Display cluster centers as DataFrame\n",
    "centers_df = pd.DataFrame(centers, columns=['Rent ($)', 'Groceries ($)', 'Transport ($)'])\n",
    "centers_df.index = ['Cluster 0 (Budget)', 'Cluster 1 (Higher Spender)']\n",
    "centers_df.index.name = 'Cluster'\n",
    "\n",
    "print(\"Cluster Centers:\")\n",
    "centers_df"
   ]
  },
  {
   "cell_type": "markdown",
   "id": "ff660f04",
   "metadata": {},
   "source": [
    "## Interpreting the Clustering Results\n",
    "\n",
    "### What the Algorithm Discovered:\n",
    "\n",
    "**Cluster Analysis:**\n",
    "- **Cluster 0 (Budget Students):** Lower rent, groceries, and transport costs\n",
    "- **Cluster 1 (Higher Spenders):** Higher costs across all categories\n",
    "\n",
    "### Key Insights:\n",
    "1. **Natural Groupings:** The algorithm identified two distinct spending patterns without being told what to look for\n",
    "2. **Cluster Centers:** Represent the \"average\" student in each group\n",
    "3. **Spending Correlation:** Students with high rent tend to also spend more on groceries and transport\n",
    "\n",
    "### Real-World Applications:\n",
    "- **University Housing:** Plan different accommodation options\n",
    "- **Student Services:** Tailor financial aid programs\n",
    "- **Campus Dining:** Design meal plans for different budgets\n",
    "- **Transportation:** Optimize shuttle services based on usage patterns\n",
    "\n",
    "**Note:** Unlike supervised learning, we don't have \"correct\" answers to evaluate against. The quality of clustering depends on how well it captures meaningful patterns in the data."
   ]
  }
 ],
 "metadata": {
  "kernelspec": {
   "display_name": "PA-Venv",
   "language": "python",
   "name": "python3"
  },
  "language_info": {
   "codemirror_mode": {
    "name": "ipython",
    "version": 3
   },
   "file_extension": ".py",
   "mimetype": "text/x-python",
   "name": "python",
   "nbconvert_exporter": "python",
   "pygments_lexer": "ipython3",
   "version": "3.13.5"
  }
 },
 "nbformat": 4,
 "nbformat_minor": 5
}
